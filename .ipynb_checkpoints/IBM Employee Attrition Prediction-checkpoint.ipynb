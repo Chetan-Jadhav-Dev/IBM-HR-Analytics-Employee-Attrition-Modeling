{
 "cells": [
  {
   "cell_type": "code",
   "execution_count": 79,
   "metadata": {
    "scrolled": true
   },
   "outputs": [],
   "source": [
    "import numpy as np \n",
    "import pandas as pd \n",
    "import tensorflow as tf\n",
    "import sklearn\n",
    "import seaborn as sns\n",
    "\n",
    "import matplotlib.pyplot as plt\n",
    "%matplotlib inline\n",
    "\n",
    "from patsy import dmatrices"
   ]
  },
  {
   "cell_type": "code",
   "execution_count": 121,
   "metadata": {},
   "outputs": [],
   "source": [
    "dataframe = pd.read_csv(\"IBM Attrition Data.csv\")"
   ]
  },
  {
   "cell_type": "code",
   "execution_count": 122,
   "metadata": {},
   "outputs": [
    {
     "data": {
      "text/html": [
       "<div>\n",
       "<style scoped>\n",
       "    .dataframe tbody tr th:only-of-type {\n",
       "        vertical-align: middle;\n",
       "    }\n",
       "\n",
       "    .dataframe tbody tr th {\n",
       "        vertical-align: top;\n",
       "    }\n",
       "\n",
       "    .dataframe thead th {\n",
       "        text-align: right;\n",
       "    }\n",
       "</style>\n",
       "<table border=\"1\" class=\"dataframe\">\n",
       "  <thead>\n",
       "    <tr style=\"text-align: right;\">\n",
       "      <th></th>\n",
       "      <th>Age</th>\n",
       "      <th>Attrition</th>\n",
       "      <th>Department</th>\n",
       "      <th>DistanceFromHome</th>\n",
       "      <th>Education</th>\n",
       "      <th>EducationField</th>\n",
       "      <th>EnvironmentSatisfaction</th>\n",
       "      <th>JobSatisfaction</th>\n",
       "      <th>MaritalStatus</th>\n",
       "      <th>MonthlyIncome</th>\n",
       "      <th>NumCompaniesWorked</th>\n",
       "      <th>WorkLifeBalance</th>\n",
       "      <th>YearsAtCompany</th>\n",
       "    </tr>\n",
       "  </thead>\n",
       "  <tbody>\n",
       "    <tr>\n",
       "      <th>0</th>\n",
       "      <td>41</td>\n",
       "      <td>Yes</td>\n",
       "      <td>Sales</td>\n",
       "      <td>1</td>\n",
       "      <td>2</td>\n",
       "      <td>Life Sciences</td>\n",
       "      <td>2</td>\n",
       "      <td>4</td>\n",
       "      <td>Single</td>\n",
       "      <td>5993</td>\n",
       "      <td>8</td>\n",
       "      <td>1</td>\n",
       "      <td>6</td>\n",
       "    </tr>\n",
       "    <tr>\n",
       "      <th>1</th>\n",
       "      <td>49</td>\n",
       "      <td>No</td>\n",
       "      <td>Research &amp; Development</td>\n",
       "      <td>8</td>\n",
       "      <td>1</td>\n",
       "      <td>Life Sciences</td>\n",
       "      <td>3</td>\n",
       "      <td>2</td>\n",
       "      <td>Married</td>\n",
       "      <td>5130</td>\n",
       "      <td>1</td>\n",
       "      <td>3</td>\n",
       "      <td>10</td>\n",
       "    </tr>\n",
       "    <tr>\n",
       "      <th>2</th>\n",
       "      <td>37</td>\n",
       "      <td>Yes</td>\n",
       "      <td>Research &amp; Development</td>\n",
       "      <td>2</td>\n",
       "      <td>2</td>\n",
       "      <td>Other</td>\n",
       "      <td>4</td>\n",
       "      <td>3</td>\n",
       "      <td>Single</td>\n",
       "      <td>2090</td>\n",
       "      <td>6</td>\n",
       "      <td>3</td>\n",
       "      <td>0</td>\n",
       "    </tr>\n",
       "    <tr>\n",
       "      <th>3</th>\n",
       "      <td>33</td>\n",
       "      <td>No</td>\n",
       "      <td>Research &amp; Development</td>\n",
       "      <td>3</td>\n",
       "      <td>4</td>\n",
       "      <td>Life Sciences</td>\n",
       "      <td>4</td>\n",
       "      <td>3</td>\n",
       "      <td>Married</td>\n",
       "      <td>2909</td>\n",
       "      <td>1</td>\n",
       "      <td>3</td>\n",
       "      <td>8</td>\n",
       "    </tr>\n",
       "    <tr>\n",
       "      <th>4</th>\n",
       "      <td>27</td>\n",
       "      <td>No</td>\n",
       "      <td>Research &amp; Development</td>\n",
       "      <td>2</td>\n",
       "      <td>1</td>\n",
       "      <td>Medical</td>\n",
       "      <td>1</td>\n",
       "      <td>2</td>\n",
       "      <td>Married</td>\n",
       "      <td>3468</td>\n",
       "      <td>9</td>\n",
       "      <td>3</td>\n",
       "      <td>2</td>\n",
       "    </tr>\n",
       "  </tbody>\n",
       "</table>\n",
       "</div>"
      ],
      "text/plain": [
       "   Age Attrition              Department  DistanceFromHome  Education  \\\n",
       "0   41       Yes                   Sales                 1          2   \n",
       "1   49        No  Research & Development                 8          1   \n",
       "2   37       Yes  Research & Development                 2          2   \n",
       "3   33        No  Research & Development                 3          4   \n",
       "4   27        No  Research & Development                 2          1   \n",
       "\n",
       "  EducationField  EnvironmentSatisfaction  JobSatisfaction MaritalStatus  \\\n",
       "0  Life Sciences                        2                4        Single   \n",
       "1  Life Sciences                        3                2       Married   \n",
       "2          Other                        4                3        Single   \n",
       "3  Life Sciences                        4                3       Married   \n",
       "4        Medical                        1                2       Married   \n",
       "\n",
       "   MonthlyIncome  NumCompaniesWorked  WorkLifeBalance  YearsAtCompany  \n",
       "0           5993                   8                1               6  \n",
       "1           5130                   1                3              10  \n",
       "2           2090                   6                3               0  \n",
       "3           2909                   1                3               8  \n",
       "4           3468                   9                3               2  "
      ]
     },
     "execution_count": 122,
     "metadata": {},
     "output_type": "execute_result"
    }
   ],
   "source": [
    "dataframe.head()"
   ]
  },
  {
   "cell_type": "code",
   "execution_count": 123,
   "metadata": {},
   "outputs": [
    {
     "data": {
      "text/html": [
       "<div>\n",
       "<style scoped>\n",
       "    .dataframe tbody tr th:only-of-type {\n",
       "        vertical-align: middle;\n",
       "    }\n",
       "\n",
       "    .dataframe tbody tr th {\n",
       "        vertical-align: top;\n",
       "    }\n",
       "\n",
       "    .dataframe thead th {\n",
       "        text-align: right;\n",
       "    }\n",
       "</style>\n",
       "<table border=\"1\" class=\"dataframe\">\n",
       "  <thead>\n",
       "    <tr style=\"text-align: right;\">\n",
       "      <th></th>\n",
       "      <th>Age</th>\n",
       "      <th>DistanceFromHome</th>\n",
       "      <th>Education</th>\n",
       "      <th>EnvironmentSatisfaction</th>\n",
       "      <th>JobSatisfaction</th>\n",
       "      <th>MonthlyIncome</th>\n",
       "      <th>NumCompaniesWorked</th>\n",
       "      <th>WorkLifeBalance</th>\n",
       "      <th>YearsAtCompany</th>\n",
       "    </tr>\n",
       "  </thead>\n",
       "  <tbody>\n",
       "    <tr>\n",
       "      <th>count</th>\n",
       "      <td>1470.000000</td>\n",
       "      <td>1470.000000</td>\n",
       "      <td>1470.000000</td>\n",
       "      <td>1470.000000</td>\n",
       "      <td>1470.000000</td>\n",
       "      <td>1470.000000</td>\n",
       "      <td>1470.000000</td>\n",
       "      <td>1470.000000</td>\n",
       "      <td>1470.000000</td>\n",
       "    </tr>\n",
       "    <tr>\n",
       "      <th>mean</th>\n",
       "      <td>36.923810</td>\n",
       "      <td>9.192517</td>\n",
       "      <td>2.912925</td>\n",
       "      <td>2.721769</td>\n",
       "      <td>2.728571</td>\n",
       "      <td>6502.931293</td>\n",
       "      <td>2.693197</td>\n",
       "      <td>2.761224</td>\n",
       "      <td>7.008163</td>\n",
       "    </tr>\n",
       "    <tr>\n",
       "      <th>std</th>\n",
       "      <td>9.135373</td>\n",
       "      <td>8.106864</td>\n",
       "      <td>1.024165</td>\n",
       "      <td>1.093082</td>\n",
       "      <td>1.102846</td>\n",
       "      <td>4707.956783</td>\n",
       "      <td>2.498009</td>\n",
       "      <td>0.706476</td>\n",
       "      <td>6.126525</td>\n",
       "    </tr>\n",
       "    <tr>\n",
       "      <th>min</th>\n",
       "      <td>18.000000</td>\n",
       "      <td>1.000000</td>\n",
       "      <td>1.000000</td>\n",
       "      <td>1.000000</td>\n",
       "      <td>1.000000</td>\n",
       "      <td>1009.000000</td>\n",
       "      <td>0.000000</td>\n",
       "      <td>1.000000</td>\n",
       "      <td>0.000000</td>\n",
       "    </tr>\n",
       "    <tr>\n",
       "      <th>25%</th>\n",
       "      <td>30.000000</td>\n",
       "      <td>2.000000</td>\n",
       "      <td>2.000000</td>\n",
       "      <td>2.000000</td>\n",
       "      <td>2.000000</td>\n",
       "      <td>2911.000000</td>\n",
       "      <td>1.000000</td>\n",
       "      <td>2.000000</td>\n",
       "      <td>3.000000</td>\n",
       "    </tr>\n",
       "    <tr>\n",
       "      <th>50%</th>\n",
       "      <td>36.000000</td>\n",
       "      <td>7.000000</td>\n",
       "      <td>3.000000</td>\n",
       "      <td>3.000000</td>\n",
       "      <td>3.000000</td>\n",
       "      <td>4919.000000</td>\n",
       "      <td>2.000000</td>\n",
       "      <td>3.000000</td>\n",
       "      <td>5.000000</td>\n",
       "    </tr>\n",
       "    <tr>\n",
       "      <th>75%</th>\n",
       "      <td>43.000000</td>\n",
       "      <td>14.000000</td>\n",
       "      <td>4.000000</td>\n",
       "      <td>4.000000</td>\n",
       "      <td>4.000000</td>\n",
       "      <td>8379.000000</td>\n",
       "      <td>4.000000</td>\n",
       "      <td>3.000000</td>\n",
       "      <td>9.000000</td>\n",
       "    </tr>\n",
       "    <tr>\n",
       "      <th>max</th>\n",
       "      <td>60.000000</td>\n",
       "      <td>29.000000</td>\n",
       "      <td>5.000000</td>\n",
       "      <td>4.000000</td>\n",
       "      <td>4.000000</td>\n",
       "      <td>19999.000000</td>\n",
       "      <td>9.000000</td>\n",
       "      <td>4.000000</td>\n",
       "      <td>40.000000</td>\n",
       "    </tr>\n",
       "  </tbody>\n",
       "</table>\n",
       "</div>"
      ],
      "text/plain": [
       "               Age  DistanceFromHome    Education  EnvironmentSatisfaction  \\\n",
       "count  1470.000000       1470.000000  1470.000000              1470.000000   \n",
       "mean     36.923810          9.192517     2.912925                 2.721769   \n",
       "std       9.135373          8.106864     1.024165                 1.093082   \n",
       "min      18.000000          1.000000     1.000000                 1.000000   \n",
       "25%      30.000000          2.000000     2.000000                 2.000000   \n",
       "50%      36.000000          7.000000     3.000000                 3.000000   \n",
       "75%      43.000000         14.000000     4.000000                 4.000000   \n",
       "max      60.000000         29.000000     5.000000                 4.000000   \n",
       "\n",
       "       JobSatisfaction  MonthlyIncome  NumCompaniesWorked  WorkLifeBalance  \\\n",
       "count      1470.000000    1470.000000         1470.000000      1470.000000   \n",
       "mean          2.728571    6502.931293            2.693197         2.761224   \n",
       "std           1.102846    4707.956783            2.498009         0.706476   \n",
       "min           1.000000    1009.000000            0.000000         1.000000   \n",
       "25%           2.000000    2911.000000            1.000000         2.000000   \n",
       "50%           3.000000    4919.000000            2.000000         3.000000   \n",
       "75%           4.000000    8379.000000            4.000000         3.000000   \n",
       "max           4.000000   19999.000000            9.000000         4.000000   \n",
       "\n",
       "       YearsAtCompany  \n",
       "count     1470.000000  \n",
       "mean         7.008163  \n",
       "std          6.126525  \n",
       "min          0.000000  \n",
       "25%          3.000000  \n",
       "50%          5.000000  \n",
       "75%          9.000000  \n",
       "max         40.000000  "
      ]
     },
     "execution_count": 123,
     "metadata": {},
     "output_type": "execute_result"
    }
   ],
   "source": [
    "dataframe.describe()"
   ]
  },
  {
   "cell_type": "code",
   "execution_count": 83,
   "metadata": {},
   "outputs": [
    {
     "name": "stdout",
     "output_type": "stream",
     "text": [
      "<class 'pandas.core.frame.DataFrame'>\n",
      "RangeIndex: 1470 entries, 0 to 1469\n",
      "Data columns (total 13 columns):\n",
      " #   Column                   Non-Null Count  Dtype \n",
      "---  ------                   --------------  ----- \n",
      " 0   Age                      1470 non-null   int64 \n",
      " 1   Attrition                1470 non-null   object\n",
      " 2   Department               1470 non-null   object\n",
      " 3   DistanceFromHome         1470 non-null   int64 \n",
      " 4   Education                1470 non-null   int64 \n",
      " 5   EducationField           1470 non-null   object\n",
      " 6   EnvironmentSatisfaction  1470 non-null   int64 \n",
      " 7   JobSatisfaction          1470 non-null   int64 \n",
      " 8   MaritalStatus            1470 non-null   object\n",
      " 9   MonthlyIncome            1470 non-null   int64 \n",
      " 10  NumCompaniesWorked       1470 non-null   int64 \n",
      " 11  WorkLifeBalance          1470 non-null   int64 \n",
      " 12  YearsAtCompany           1470 non-null   int64 \n",
      "dtypes: int64(9), object(4)\n",
      "memory usage: 149.4+ KB\n"
     ]
    }
   ],
   "source": [
    "dataframe.info()"
   ]
  },
  {
   "cell_type": "code",
   "execution_count": 84,
   "metadata": {},
   "outputs": [
    {
     "data": {
      "text/plain": [
       "Age                           9.135373\n",
       "DistanceFromHome              8.106864\n",
       "Education                     1.024165\n",
       "EnvironmentSatisfaction       1.093082\n",
       "JobSatisfaction               1.102846\n",
       "MonthlyIncome              4707.956783\n",
       "NumCompaniesWorked            2.498009\n",
       "WorkLifeBalance               0.706476\n",
       "YearsAtCompany                6.126525\n",
       "dtype: float64"
      ]
     },
     "execution_count": 84,
     "metadata": {},
     "output_type": "execute_result"
    }
   ],
   "source": [
    "dataframe.std()"
   ]
  },
  {
   "cell_type": "code",
   "execution_count": 85,
   "metadata": {},
   "outputs": [
    {
     "data": {
      "image/png": "[encoded data removed]",
      "text/plain": [
       "<Figure size 720x576 with 1 Axes>"
      ]
     },
     "metadata": {
      "needs_background": "light"
     },
     "output_type": "display_data"
    }
   ],
   "source": [
    "# Age Distribution of Employees\n",
    "\n",
    "plt.figure(figsize=(10,8))\n",
    "dataframe['Age'].hist(bins=70)\n",
    "\n",
    "plt.show()"
   ]
  },
  {
   "cell_type": "code",
   "execution_count": 86,
   "metadata": {},
   "outputs": [
    {
     "data": {
      "image/png": "[encoded data removed]",
      "text/plain": [
       "<Figure size 720x576 with 1 Axes>"
      ]
     },
     "metadata": {
      "needs_background": "light"
     },
     "output_type": "display_data"
    }
   ],
   "source": [
    "# Explore attrition by age\n",
    "\n",
    "plt.figure(figsize=(10,8))\n",
    "plt.scatter(dataframe.Attrition,dataframe.Age, alpha=.55)\n",
    "plt.title(\"Attrition by Age \")\n",
    "plt.ylabel(\"Age\")\n",
    "plt.grid(b=True, which='major',axis='y')\n",
    "plt.show()"
   ]
  },
  {
   "cell_type": "code",
   "execution_count": 87,
   "metadata": {},
   "outputs": [
    {
     "data": {
      "image/png": "[encoded data removed]",
      "text/plain": [
       "<Figure size 576x432 with 1 Axes>"
      ]
     },
     "metadata": {
      "needs_background": "light"
     },
     "output_type": "display_data"
    }
   ],
   "source": [
    "# Explore data for Left employees\n",
    "\n",
    "plt.figure(figsize=(8,6))\n",
    "dataframe.Attrition.value_counts().plot(kind='barh',color='blue',alpha=.65)\n",
    "plt.title(\"Attrition breakdown \")\n",
    "plt.show()"
   ]
  },
  {
   "cell_type": "code",
   "execution_count": 88,
   "metadata": {},
   "outputs": [
    {
     "data": {
      "image/png": "[encoded data removed]",
      "text/plain": [
       "<Figure size 720x576 with 1 Axes>"
      ]
     },
     "metadata": {
      "needs_background": "light"
     },
     "output_type": "display_data"
    }
   ],
   "source": [
    "# Distribution of employees by the education field\n",
    "\n",
    "plt.figure(figsize=(10,8))\n",
    "dataframe.EducationField.value_counts().plot(kind='barh',color='g',alpha=.65)\n",
    "plt.title(\"Education Field Distribution\")\n",
    "plt.show()"
   ]
  },
  {
   "cell_type": "code",
   "execution_count": 89,
   "metadata": {},
   "outputs": [
    {
     "data": {
      "image/png": "[encoded data removed]",
      "text/plain": [
       "<Figure size 576x432 with 1 Axes>"
      ]
     },
     "metadata": {
      "needs_background": "light"
     },
     "output_type": "display_data"
    }
   ],
   "source": [
    "# Marital Status Bar Chart\n",
    "\n",
    "plt.figure(figsize=(8,6))\n",
    "dataframe.MaritalStatus.value_counts().plot(kind='bar',alpha=.5)\n",
    "plt.show()"
   ]
  },
  {
   "cell_type": "code",
   "execution_count": 90,
   "metadata": {
    "scrolled": false
   },
   "outputs": [
    {
     "data": {
      "text/plain": [
       "No     1233\n",
       "Yes     237\n",
       "Name: Attrition, dtype: int64"
      ]
     },
     "execution_count": 90,
     "metadata": {},
     "output_type": "execute_result"
    }
   ],
   "source": [
    "dataframe['Attrition'].value_counts()"
   ]
  },
  {
   "cell_type": "code",
   "execution_count": 91,
   "metadata": {},
   "outputs": [
    {
     "data": {
      "text/plain": [
       "dtype('O')"
      ]
     },
     "execution_count": 91,
     "metadata": {},
     "output_type": "execute_result"
    }
   ],
   "source": [
    "dataframe['Attrition'].dtypes"
   ]
  },
  {
   "cell_type": "code",
   "execution_count": 92,
   "metadata": {},
   "outputs": [],
   "source": [
    "dataframe['Attrition'].replace('Yes',1, inplace=True)\n",
    "dataframe['Attrition'].replace('No',0, inplace=True)"
   ]
  },
  {
   "cell_type": "code",
   "execution_count": 93,
   "metadata": {},
   "outputs": [
    {
     "name": "stdout",
     "output_type": "stream",
     "text": [
      "Index(['Age', 'Attrition', 'Department', 'DistanceFromHome', 'Education',\n",
      "       'EducationField', 'EnvironmentSatisfaction', 'JobSatisfaction',\n",
      "       'MaritalStatus', 'MonthlyIncome', 'NumCompaniesWorked',\n",
      "       'WorkLifeBalance', 'YearsAtCompany'],\n",
      "      dtype='object')\n"
     ]
    }
   ],
   "source": [
    "names = dataframe.columns\n",
    "print (names)"
   ]
  },
  {
   "cell_type": "code",
   "execution_count": 94,
   "metadata": {},
   "outputs": [
    {
     "data": {
      "text/html": [
       "<div>\n",
       "<style scoped>\n",
       "    .dataframe tbody tr th:only-of-type {\n",
       "        vertical-align: middle;\n",
       "    }\n",
       "\n",
       "    .dataframe tbody tr th {\n",
       "        vertical-align: top;\n",
       "    }\n",
       "\n",
       "    .dataframe thead th {\n",
       "        text-align: right;\n",
       "    }\n",
       "</style>\n",
       "<table border=\"1\" class=\"dataframe\">\n",
       "  <thead>\n",
       "    <tr style=\"text-align: right;\">\n",
       "      <th></th>\n",
       "      <th>Age</th>\n",
       "      <th>Attrition</th>\n",
       "      <th>Department</th>\n",
       "      <th>DistanceFromHome</th>\n",
       "      <th>Education</th>\n",
       "      <th>EducationField</th>\n",
       "      <th>EnvironmentSatisfaction</th>\n",
       "      <th>JobSatisfaction</th>\n",
       "      <th>MaritalStatus</th>\n",
       "      <th>MonthlyIncome</th>\n",
       "      <th>NumCompaniesWorked</th>\n",
       "      <th>WorkLifeBalance</th>\n",
       "      <th>YearsAtCompany</th>\n",
       "    </tr>\n",
       "  </thead>\n",
       "  <tbody>\n",
       "    <tr>\n",
       "      <th>0</th>\n",
       "      <td>41</td>\n",
       "      <td>1</td>\n",
       "      <td>Sales</td>\n",
       "      <td>1</td>\n",
       "      <td>2</td>\n",
       "      <td>Life Sciences</td>\n",
       "      <td>2</td>\n",
       "      <td>4</td>\n",
       "      <td>Single</td>\n",
       "      <td>5993</td>\n",
       "      <td>8</td>\n",
       "      <td>1</td>\n",
       "      <td>6</td>\n",
       "    </tr>\n",
       "    <tr>\n",
       "      <th>1</th>\n",
       "      <td>49</td>\n",
       "      <td>0</td>\n",
       "      <td>Research &amp; Development</td>\n",
       "      <td>8</td>\n",
       "      <td>1</td>\n",
       "      <td>Life Sciences</td>\n",
       "      <td>3</td>\n",
       "      <td>2</td>\n",
       "      <td>Married</td>\n",
       "      <td>5130</td>\n",
       "      <td>1</td>\n",
       "      <td>3</td>\n",
       "      <td>10</td>\n",
       "    </tr>\n",
       "    <tr>\n",
       "      <th>2</th>\n",
       "      <td>37</td>\n",
       "      <td>1</td>\n",
       "      <td>Research &amp; Development</td>\n",
       "      <td>2</td>\n",
       "      <td>2</td>\n",
       "      <td>Other</td>\n",
       "      <td>4</td>\n",
       "      <td>3</td>\n",
       "      <td>Single</td>\n",
       "      <td>2090</td>\n",
       "      <td>6</td>\n",
       "      <td>3</td>\n",
       "      <td>0</td>\n",
       "    </tr>\n",
       "    <tr>\n",
       "      <th>3</th>\n",
       "      <td>33</td>\n",
       "      <td>0</td>\n",
       "      <td>Research &amp; Development</td>\n",
       "      <td>3</td>\n",
       "      <td>4</td>\n",
       "      <td>Life Sciences</td>\n",
       "      <td>4</td>\n",
       "      <td>3</td>\n",
       "      <td>Married</td>\n",
       "      <td>2909</td>\n",
       "      <td>1</td>\n",
       "      <td>3</td>\n",
       "      <td>8</td>\n",
       "    </tr>\n",
       "    <tr>\n",
       "      <th>4</th>\n",
       "      <td>27</td>\n",
       "      <td>0</td>\n",
       "      <td>Research &amp; Development</td>\n",
       "      <td>2</td>\n",
       "      <td>1</td>\n",
       "      <td>Medical</td>\n",
       "      <td>1</td>\n",
       "      <td>2</td>\n",
       "      <td>Married</td>\n",
       "      <td>3468</td>\n",
       "      <td>9</td>\n",
       "      <td>3</td>\n",
       "      <td>2</td>\n",
       "    </tr>\n",
       "    <tr>\n",
       "      <th>...</th>\n",
       "      <td>...</td>\n",
       "      <td>...</td>\n",
       "      <td>...</td>\n",
       "      <td>...</td>\n",
       "      <td>...</td>\n",
       "      <td>...</td>\n",
       "      <td>...</td>\n",
       "      <td>...</td>\n",
       "      <td>...</td>\n",
       "      <td>...</td>\n",
       "      <td>...</td>\n",
       "      <td>...</td>\n",
       "      <td>...</td>\n",
       "    </tr>\n",
       "    <tr>\n",
       "      <th>1465</th>\n",
       "      <td>36</td>\n",
       "      <td>0</td>\n",
       "      <td>Research &amp; Development</td>\n",
       "      <td>23</td>\n",
       "      <td>2</td>\n",
       "      <td>Medical</td>\n",
       "      <td>3</td>\n",
       "      <td>4</td>\n",
       "      <td>Married</td>\n",
       "      <td>2571</td>\n",
       "      <td>4</td>\n",
       "      <td>3</td>\n",
       "      <td>5</td>\n",
       "    </tr>\n",
       "    <tr>\n",
       "      <th>1466</th>\n",
       "      <td>39</td>\n",
       "      <td>0</td>\n",
       "      <td>Research &amp; Development</td>\n",
       "      <td>6</td>\n",
       "      <td>1</td>\n",
       "      <td>Medical</td>\n",
       "      <td>4</td>\n",
       "      <td>1</td>\n",
       "      <td>Married</td>\n",
       "      <td>9991</td>\n",
       "      <td>4</td>\n",
       "      <td>3</td>\n",
       "      <td>7</td>\n",
       "    </tr>\n",
       "    <tr>\n",
       "      <th>1467</th>\n",
       "      <td>27</td>\n",
       "      <td>0</td>\n",
       "      <td>Research &amp; Development</td>\n",
       "      <td>4</td>\n",
       "      <td>3</td>\n",
       "      <td>Life Sciences</td>\n",
       "      <td>2</td>\n",
       "      <td>2</td>\n",
       "      <td>Married</td>\n",
       "      <td>6142</td>\n",
       "      <td>1</td>\n",
       "      <td>3</td>\n",
       "      <td>6</td>\n",
       "    </tr>\n",
       "    <tr>\n",
       "      <th>1468</th>\n",
       "      <td>49</td>\n",
       "      <td>0</td>\n",
       "      <td>Sales</td>\n",
       "      <td>2</td>\n",
       "      <td>3</td>\n",
       "      <td>Medical</td>\n",
       "      <td>4</td>\n",
       "      <td>2</td>\n",
       "      <td>Married</td>\n",
       "      <td>5390</td>\n",
       "      <td>2</td>\n",
       "      <td>2</td>\n",
       "      <td>9</td>\n",
       "    </tr>\n",
       "    <tr>\n",
       "      <th>1469</th>\n",
       "      <td>34</td>\n",
       "      <td>0</td>\n",
       "      <td>Research &amp; Development</td>\n",
       "      <td>8</td>\n",
       "      <td>3</td>\n",
       "      <td>Medical</td>\n",
       "      <td>2</td>\n",
       "      <td>3</td>\n",
       "      <td>Married</td>\n",
       "      <td>4404</td>\n",
       "      <td>2</td>\n",
       "      <td>4</td>\n",
       "      <td>4</td>\n",
       "    </tr>\n",
       "  </tbody>\n",
       "</table>\n",
       "<p>1470 rows × 13 columns</p>\n",
       "</div>"
      ],
      "text/plain": [
       "      Age  Attrition              Department  DistanceFromHome  Education  \\\n",
       "0      41          1                   Sales                 1          2   \n",
       "1      49          0  Research & Development                 8          1   \n",
       "2      37          1  Research & Development                 2          2   \n",
       "3      33          0  Research & Development                 3          4   \n",
       "4      27          0  Research & Development                 2          1   \n",
       "...   ...        ...                     ...               ...        ...   \n",
       "1465   36          0  Research & Development                23          2   \n",
       "1466   39          0  Research & Development                 6          1   \n",
       "1467   27          0  Research & Development                 4          3   \n",
       "1468   49          0                   Sales                 2          3   \n",
       "1469   34          0  Research & Development                 8          3   \n",
       "\n",
       "     EducationField  EnvironmentSatisfaction  JobSatisfaction MaritalStatus  \\\n",
       "0     Life Sciences                        2                4        Single   \n",
       "1     Life Sciences                        3                2       Married   \n",
       "2             Other                        4                3        Single   \n",
       "3     Life Sciences                        4                3       Married   \n",
       "4           Medical                        1                2       Married   \n",
       "...             ...                      ...              ...           ...   \n",
       "1465        Medical                        3                4       Married   \n",
       "1466        Medical                        4                1       Married   \n",
       "1467  Life Sciences                        2                2       Married   \n",
       "1468        Medical                        4                2       Married   \n",
       "1469        Medical                        2                3       Married   \n",
       "\n",
       "      MonthlyIncome  NumCompaniesWorked  WorkLifeBalance  YearsAtCompany  \n",
       "0              5993                   8                1               6  \n",
       "1              5130                   1                3              10  \n",
       "2              2090                   6                3               0  \n",
       "3              2909                   1                3               8  \n",
       "4              3468                   9                3               2  \n",
       "...             ...                 ...              ...             ...  \n",
       "1465           2571                   4                3               5  \n",
       "1466           9991                   4                3               7  \n",
       "1467           6142                   1                3               6  \n",
       "1468           5390                   2                2               9  \n",
       "1469           4404                   2                4               4  \n",
       "\n",
       "[1470 rows x 13 columns]"
      ]
     },
     "execution_count": 94,
     "metadata": {},
     "output_type": "execute_result"
    }
   ],
   "source": [
    "dataframe"
   ]
  },
  {
   "cell_type": "code",
   "execution_count": 95,
   "metadata": {},
   "outputs": [
    {
     "data": {
      "text/html": [
       "<div>\n",
       "<style scoped>\n",
       "    .dataframe tbody tr th:only-of-type {\n",
       "        vertical-align: middle;\n",
       "    }\n",
       "\n",
       "    .dataframe tbody tr th {\n",
       "        vertical-align: top;\n",
       "    }\n",
       "\n",
       "    .dataframe thead th {\n",
       "        text-align: right;\n",
       "    }\n",
       "</style>\n",
       "<table border=\"1\" class=\"dataframe\">\n",
       "  <thead>\n",
       "    <tr style=\"text-align: right;\">\n",
       "      <th></th>\n",
       "      <th>Age</th>\n",
       "      <th>Department</th>\n",
       "      <th>DistanceFromHome</th>\n",
       "      <th>Education</th>\n",
       "      <th>EducationField</th>\n",
       "      <th>EnvironmentSatisfaction</th>\n",
       "      <th>JobSatisfaction</th>\n",
       "      <th>MaritalStatus</th>\n",
       "      <th>MonthlyIncome</th>\n",
       "      <th>NumCompaniesWorked</th>\n",
       "      <th>WorkLifeBalance</th>\n",
       "      <th>YearsAtCompany</th>\n",
       "    </tr>\n",
       "  </thead>\n",
       "  <tbody>\n",
       "    <tr>\n",
       "      <th>0</th>\n",
       "      <td>41</td>\n",
       "      <td>Sales</td>\n",
       "      <td>1</td>\n",
       "      <td>2</td>\n",
       "      <td>Life Sciences</td>\n",
       "      <td>2</td>\n",
       "      <td>4</td>\n",
       "      <td>Single</td>\n",
       "      <td>5993</td>\n",
       "      <td>8</td>\n",
       "      <td>1</td>\n",
       "      <td>6</td>\n",
       "    </tr>\n",
       "    <tr>\n",
       "      <th>1</th>\n",
       "      <td>49</td>\n",
       "      <td>Research &amp; Development</td>\n",
       "      <td>8</td>\n",
       "      <td>1</td>\n",
       "      <td>Life Sciences</td>\n",
       "      <td>3</td>\n",
       "      <td>2</td>\n",
       "      <td>Married</td>\n",
       "      <td>5130</td>\n",
       "      <td>1</td>\n",
       "      <td>3</td>\n",
       "      <td>10</td>\n",
       "    </tr>\n",
       "    <tr>\n",
       "      <th>2</th>\n",
       "      <td>37</td>\n",
       "      <td>Research &amp; Development</td>\n",
       "      <td>2</td>\n",
       "      <td>2</td>\n",
       "      <td>Other</td>\n",
       "      <td>4</td>\n",
       "      <td>3</td>\n",
       "      <td>Single</td>\n",
       "      <td>2090</td>\n",
       "      <td>6</td>\n",
       "      <td>3</td>\n",
       "      <td>0</td>\n",
       "    </tr>\n",
       "    <tr>\n",
       "      <th>3</th>\n",
       "      <td>33</td>\n",
       "      <td>Research &amp; Development</td>\n",
       "      <td>3</td>\n",
       "      <td>4</td>\n",
       "      <td>Life Sciences</td>\n",
       "      <td>4</td>\n",
       "      <td>3</td>\n",
       "      <td>Married</td>\n",
       "      <td>2909</td>\n",
       "      <td>1</td>\n",
       "      <td>3</td>\n",
       "      <td>8</td>\n",
       "    </tr>\n",
       "    <tr>\n",
       "      <th>4</th>\n",
       "      <td>27</td>\n",
       "      <td>Research &amp; Development</td>\n",
       "      <td>2</td>\n",
       "      <td>1</td>\n",
       "      <td>Medical</td>\n",
       "      <td>1</td>\n",
       "      <td>2</td>\n",
       "      <td>Married</td>\n",
       "      <td>3468</td>\n",
       "      <td>9</td>\n",
       "      <td>3</td>\n",
       "      <td>2</td>\n",
       "    </tr>\n",
       "  </tbody>\n",
       "</table>\n",
       "</div>"
      ],
      "text/plain": [
       "   Age              Department  DistanceFromHome  Education EducationField  \\\n",
       "0   41                   Sales                 1          2  Life Sciences   \n",
       "1   49  Research & Development                 8          1  Life Sciences   \n",
       "2   37  Research & Development                 2          2          Other   \n",
       "3   33  Research & Development                 3          4  Life Sciences   \n",
       "4   27  Research & Development                 2          1        Medical   \n",
       "\n",
       "   EnvironmentSatisfaction  JobSatisfaction MaritalStatus  MonthlyIncome  \\\n",
       "0                        2                4        Single           5993   \n",
       "1                        3                2       Married           5130   \n",
       "2                        4                3        Single           2090   \n",
       "3                        4                3       Married           2909   \n",
       "4                        1                2       Married           3468   \n",
       "\n",
       "   NumCompaniesWorked  WorkLifeBalance  YearsAtCompany  \n",
       "0                   8                1               6  \n",
       "1                   1                3              10  \n",
       "2                   6                3               0  \n",
       "3                   1                3               8  \n",
       "4                   9                3               2  "
      ]
     },
     "execution_count": 95,
     "metadata": {},
     "output_type": "execute_result"
    }
   ],
   "source": [
    "# building up a logistic regression model\n",
    "\n",
    "X = dataframe.drop(['Attrition'],axis=1)\n",
    "X.head()"
   ]
  },
  {
   "cell_type": "code",
   "execution_count": 96,
   "metadata": {},
   "outputs": [
    {
     "data": {
      "text/plain": [
       "0    1\n",
       "1    0\n",
       "2    1\n",
       "3    0\n",
       "4    0\n",
       "Name: Attrition, dtype: int64"
      ]
     },
     "execution_count": 96,
     "metadata": {},
     "output_type": "execute_result"
    }
   ],
   "source": [
    "Y = dataframe['Attrition']\n",
    "Y.head()"
   ]
  },
  {
   "cell_type": "code",
   "execution_count": 97,
   "metadata": {},
   "outputs": [
    {
     "data": {
      "text/plain": [
       "Life Sciences       606\n",
       "Medical             464\n",
       "Marketing           159\n",
       "Technical Degree    132\n",
       "Other                82\n",
       "Human Resources      27\n",
       "Name: EducationField, dtype: int64"
      ]
     },
     "execution_count": 97,
     "metadata": {},
     "output_type": "execute_result"
    }
   ],
   "source": [
    "dataframe['EducationField'].value_counts()"
   ]
  },
  {
   "cell_type": "code",
   "execution_count": 98,
   "metadata": {},
   "outputs": [],
   "source": [
    "dataframe['EducationField'].replace('Life Sciences',1, inplace=True)\n",
    "dataframe['EducationField'].replace('Medical',2, inplace=True)\n",
    "dataframe['EducationField'].replace('Marketing', 3, inplace=True)\n",
    "dataframe['EducationField'].replace('Other',4, inplace=True)\n",
    "dataframe['EducationField'].replace('Technical Degree',5, inplace=True)\n",
    "dataframe['EducationField'].replace('Human Resources', 6, inplace=True)"
   ]
  },
  {
   "cell_type": "code",
   "execution_count": 99,
   "metadata": {},
   "outputs": [
    {
     "data": {
      "text/plain": [
       "1    606\n",
       "2    464\n",
       "3    159\n",
       "5    132\n",
       "4     82\n",
       "6     27\n",
       "Name: EducationField, dtype: int64"
      ]
     },
     "execution_count": 99,
     "metadata": {},
     "output_type": "execute_result"
    }
   ],
   "source": [
    "#confirm Education Field counts\n",
    "\n",
    "dataframe['EducationField'].value_counts()"
   ]
  },
  {
   "cell_type": "code",
   "execution_count": 100,
   "metadata": {},
   "outputs": [
    {
     "data": {
      "text/plain": [
       "Research & Development    961\n",
       "Sales                     446\n",
       "Human Resources            63\n",
       "Name: Department, dtype: int64"
      ]
     },
     "execution_count": 100,
     "metadata": {},
     "output_type": "execute_result"
    }
   ],
   "source": [
    "dataframe['Department'].value_counts()"
   ]
  },
  {
   "cell_type": "code",
   "execution_count": 101,
   "metadata": {},
   "outputs": [],
   "source": [
    "dataframe['Department'].replace('Research & Development',1, inplace=True)\n",
    "dataframe['Department'].replace('Sales',2, inplace=True)\n",
    "dataframe['Department'].replace('Human Resources', 3, inplace=True)"
   ]
  },
  {
   "cell_type": "code",
   "execution_count": 102,
   "metadata": {},
   "outputs": [
    {
     "data": {
      "text/plain": [
       "1    961\n",
       "2    446\n",
       "3     63\n",
       "Name: Department, dtype: int64"
      ]
     },
     "execution_count": 102,
     "metadata": {},
     "output_type": "execute_result"
    }
   ],
   "source": [
    "#confirm Department counts\n",
    "\n",
    "dataframe['Department'].value_counts()"
   ]
  },
  {
   "cell_type": "code",
   "execution_count": 103,
   "metadata": {},
   "outputs": [
    {
     "data": {
      "text/plain": [
       "Married     673\n",
       "Single      470\n",
       "Divorced    327\n",
       "Name: MaritalStatus, dtype: int64"
      ]
     },
     "execution_count": 103,
     "metadata": {},
     "output_type": "execute_result"
    }
   ],
   "source": [
    "dataframe['MaritalStatus'].value_counts()"
   ]
  },
  {
   "cell_type": "code",
   "execution_count": 104,
   "metadata": {},
   "outputs": [],
   "source": [
    "dataframe['MaritalStatus'].replace('Married',1, inplace=True)\n",
    "dataframe['MaritalStatus'].replace('Single',2, inplace=True)\n",
    "dataframe['MaritalStatus'].replace('Divorced',3, inplace=True)"
   ]
  },
  {
   "cell_type": "code",
   "execution_count": 105,
   "metadata": {},
   "outputs": [
    {
     "data": {
      "text/plain": [
       "1    673\n",
       "2    470\n",
       "3    327\n",
       "Name: MaritalStatus, dtype: int64"
      ]
     },
     "execution_count": 105,
     "metadata": {},
     "output_type": "execute_result"
    }
   ],
   "source": [
    "#confirm Marital Status counts\n",
    "\n",
    "dataframe['MaritalStatus'].value_counts()"
   ]
  },
  {
   "cell_type": "code",
   "execution_count": 106,
   "metadata": {},
   "outputs": [
    {
     "data": {
      "text/plain": [
       "Age                        int64\n",
       "Attrition                  int64\n",
       "Department                 int64\n",
       "DistanceFromHome           int64\n",
       "Education                  int64\n",
       "EducationField             int64\n",
       "EnvironmentSatisfaction    int64\n",
       "JobSatisfaction            int64\n",
       "MaritalStatus              int64\n",
       "MonthlyIncome              int64\n",
       "NumCompaniesWorked         int64\n",
       "WorkLifeBalance            int64\n",
       "YearsAtCompany             int64\n",
       "dtype: object"
      ]
     },
     "execution_count": 106,
     "metadata": {},
     "output_type": "execute_result"
    }
   ],
   "source": [
    "x = dataframe.select_dtypes(include=['int64'])\n",
    "x.dtypes"
   ]
  },
  {
   "cell_type": "code",
   "execution_count": 107,
   "metadata": {},
   "outputs": [
    {
     "data": {
      "text/plain": [
       "Index(['Age', 'Attrition', 'Department', 'DistanceFromHome', 'Education',\n",
       "       'EducationField', 'EnvironmentSatisfaction', 'JobSatisfaction',\n",
       "       'MaritalStatus', 'MonthlyIncome', 'NumCompaniesWorked',\n",
       "       'WorkLifeBalance', 'YearsAtCompany'],\n",
       "      dtype='object')"
      ]
     },
     "execution_count": 107,
     "metadata": {},
     "output_type": "execute_result"
    }
   ],
   "source": [
    "x.columns"
   ]
  },
  {
   "cell_type": "code",
   "execution_count": 108,
   "metadata": {},
   "outputs": [],
   "source": [
    "y = dataframe['Attrition']"
   ]
  },
  {
   "cell_type": "code",
   "execution_count": 109,
   "metadata": {},
   "outputs": [
    {
     "data": {
      "text/plain": [
       "0    1\n",
       "1    0\n",
       "2    1\n",
       "3    0\n",
       "4    0\n",
       "Name: Attrition, dtype: int64"
      ]
     },
     "execution_count": 109,
     "metadata": {},
     "output_type": "execute_result"
    }
   ],
   "source": [
    "y.head()"
   ]
  },
  {
   "cell_type": "code",
   "execution_count": 110,
   "metadata": {},
   "outputs": [
    {
     "name": "stdout",
     "output_type": "stream",
     "text": [
      "Index(['Intercept', 'Age', 'Department', 'DistanceFromHome', 'Education',\n",
      "       'EducationField', 'YearsAtCompany'],\n",
      "      dtype='object')\n"
     ]
    }
   ],
   "source": [
    "y, x = dmatrices('Attrition ~ Age + Department + \\\n",
    "                  DistanceFromHome + Education + EducationField + YearsAtCompany',\n",
    "                  dataframe, return_type=\"dataframe\")\n",
    "print (x.columns)"
   ]
  },
  {
   "cell_type": "code",
   "execution_count": 111,
   "metadata": {},
   "outputs": [],
   "source": [
    "y = np.ravel(y)"
   ]
  },
  {
   "cell_type": "code",
   "execution_count": 112,
   "metadata": {},
   "outputs": [
    {
     "data": {
      "text/plain": [
       "0.8408163265306122"
      ]
     },
     "execution_count": 112,
     "metadata": {},
     "output_type": "execute_result"
    }
   ],
   "source": [
    "from sklearn.linear_model import LogisticRegression\n",
    "\n",
    "model = LogisticRegression()\n",
    "model = model.fit(x, y)\n",
    "\n",
    "# check the accuracy on the training set\n",
    "model.score(x, y)"
   ]
  },
  {
   "cell_type": "code",
   "execution_count": 113,
   "metadata": {},
   "outputs": [
    {
     "data": {
      "text/plain": [
       "0.16122448979591836"
      ]
     },
     "execution_count": 113,
     "metadata": {},
     "output_type": "execute_result"
    }
   ],
   "source": [
    "y.mean()"
   ]
  },
  {
   "cell_type": "code",
   "execution_count": 114,
   "metadata": {},
   "outputs": [
    {
     "data": {
      "text/plain": [
       "LogisticRegression()"
      ]
     },
     "execution_count": 114,
     "metadata": {},
     "output_type": "execute_result"
    }
   ],
   "source": [
    "X_train,X_test,y_train,y_test=sklearn.model_selection.train_test_split(x,y, test_size=0.3, random_state=0)\n",
    "model2=LogisticRegression()\n",
    "model2.fit(X_train, y_train)"
   ]
  },
  {
   "cell_type": "code",
   "execution_count": 115,
   "metadata": {},
   "outputs": [
    {
     "name": "stdout",
     "output_type": "stream",
     "text": [
      "[0. 0. 0. 0. 0. 0. 0. 0. 0. 0. 0. 0. 0. 0. 0. 0. 0. 0. 0. 0. 0. 0. 0. 0.\n",
      " 0. 0. 0. 0. 0. 0. 0. 0. 0. 0. 0. 0. 0. 0. 0. 0. 0. 0. 0. 0. 0. 0. 0. 0.\n",
      " 0. 0. 0. 0. 0. 0. 0. 0. 0. 0. 0. 0. 0. 0. 0. 0. 0. 0. 0. 0. 0. 0. 0. 0.\n",
      " 0. 0. 0. 0. 0. 0. 0. 0. 0. 0. 0. 0. 0. 0. 0. 0. 0. 0. 0. 0. 0. 0. 0. 0.\n",
      " 0. 0. 0. 0. 0. 0. 0. 0. 0. 0. 0. 0. 0. 0. 0. 0. 0. 0. 0. 0. 0. 0. 0. 0.\n",
      " 0. 0. 0. 0. 0. 0. 0. 0. 0. 0. 0. 0. 0. 0. 0. 0. 0. 0. 0. 0. 0. 0. 0. 0.\n",
      " 0. 0. 0. 0. 0. 0. 0. 0. 0. 0. 0. 0. 0. 0. 0. 0. 0. 0. 0. 0. 0. 0. 0. 0.\n",
      " 0. 0. 0. 0. 0. 0. 0. 0. 0. 0. 0. 0. 0. 0. 0. 0. 0. 0. 0. 0. 0. 0. 0. 0.\n",
      " 0. 0. 0. 0. 0. 0. 0. 0. 0. 0. 0. 0. 0. 0. 0. 0. 0. 0. 0. 0. 0. 0. 0. 0.\n",
      " 0. 0. 0. 0. 0. 0. 0. 0. 0. 0. 0. 0. 0. 0. 0. 0. 0. 0. 0. 0. 0. 0. 0. 0.\n",
      " 0. 0. 0. 0. 0. 0. 0. 0. 0. 0. 0. 0. 0. 0. 0. 0. 0. 0. 0. 0. 0. 0. 0. 0.\n",
      " 0. 0. 0. 0. 0. 0. 0. 0. 0. 0. 0. 0. 0. 0. 0. 0. 0. 0. 0. 0. 0. 0. 0. 0.\n",
      " 0. 0. 0. 0. 0. 0. 0. 0. 0. 0. 0. 0. 0. 0. 0. 0. 0. 0. 0. 0. 0. 0. 0. 0.\n",
      " 0. 0. 0. 0. 0. 0. 0. 0. 1. 0. 0. 0. 0. 0. 0. 0. 0. 0. 0. 0. 0. 0. 0. 0.\n",
      " 0. 0. 0. 0. 0. 0. 0. 0. 0. 0. 0. 0. 0. 0. 0. 0. 0. 0. 0. 0. 0. 0. 0. 0.\n",
      " 0. 0. 0. 0. 0. 0. 0. 0. 0. 0. 0. 0. 0. 0. 0. 0. 0. 0. 0. 0. 0. 0. 0. 0.\n",
      " 0. 0. 0. 0. 0. 0. 0. 0. 0. 0. 0. 0. 0. 0. 0. 0. 0. 0. 0. 0. 0. 0. 0. 0.\n",
      " 0. 0. 0. 0. 0. 0. 0. 0. 0. 0. 0. 0. 0. 0. 0. 0. 0. 0. 0. 0. 0. 0. 0. 0.\n",
      " 0. 0. 0. 0. 0. 0. 0. 0. 0.]\n"
     ]
    }
   ],
   "source": [
    "predicted = model2.predict(X_test)\n",
    "print (predicted)"
   ]
  },
  {
   "cell_type": "code",
   "execution_count": 116,
   "metadata": {},
   "outputs": [
    {
     "name": "stdout",
     "output_type": "stream",
     "text": [
      "[[0.86179634 0.13820366]\n",
      " [0.80754597 0.19245403]\n",
      " [0.74123968 0.25876032]\n",
      " [0.83441327 0.16558673]\n",
      " [0.73499949 0.26500051]\n",
      " [0.79097756 0.20902244]\n",
      " [0.85615206 0.14384794]\n",
      " [0.85699677 0.14300323]\n",
      " [0.9669905  0.0330095 ]\n",
      " [0.93685198 0.06314802]\n",
      " [0.95099262 0.04900738]\n",
      " [0.83101542 0.16898458]\n",
      " [0.86296549 0.13703451]\n",
      " [0.86581192 0.13418808]\n",
      " [0.88750589 0.11249411]\n",
      " [0.88892618 0.11107382]\n",
      " [0.88569714 0.11430286]\n",
      " [0.78516592 0.21483408]\n",
      " [0.79794491 0.20205509]\n",
      " [0.8851129  0.1148871 ]\n",
      " [0.70651625 0.29348375]\n",
      " [0.94676681 0.05323319]\n",
      " [0.86736258 0.13263742]\n",
      " [0.8427646  0.1572354 ]\n",
      " [0.60336904 0.39663096]\n",
      " [0.81129201 0.18870799]\n",
      " [0.91813719 0.08186281]\n",
      " [0.93285517 0.06714483]\n",
      " [0.68230798 0.31769202]\n",
      " [0.87027126 0.12972874]\n",
      " [0.87266379 0.12733621]\n",
      " [0.7696875  0.2303125 ]\n",
      " [0.8643575  0.1356425 ]\n",
      " [0.95758869 0.04241131]\n",
      " [0.8446148  0.1553852 ]\n",
      " [0.86719354 0.13280646]\n",
      " [0.90465966 0.09534034]\n",
      " [0.68936442 0.31063558]\n",
      " [0.90703608 0.09296392]\n",
      " [0.80663487 0.19336513]\n",
      " [0.9151571  0.0848429 ]\n",
      " [0.82351293 0.17648707]\n",
      " [0.93711505 0.06288495]\n",
      " [0.93411321 0.06588679]\n",
      " [0.89447646 0.10552354]\n",
      " [0.85317745 0.14682255]\n",
      " [0.78922389 0.21077611]\n",
      " [0.84879884 0.15120116]\n",
      " [0.66402498 0.33597502]\n",
      " [0.76252318 0.23747682]\n",
      " [0.92851099 0.07148901]\n",
      " [0.789537   0.210463  ]\n",
      " [0.86166604 0.13833396]\n",
      " [0.85837898 0.14162102]\n",
      " [0.87217671 0.12782329]\n",
      " [0.78950908 0.21049092]\n",
      " [0.87690786 0.12309214]\n",
      " [0.84165436 0.15834564]\n",
      " [0.72847196 0.27152804]\n",
      " [0.83181424 0.16818576]\n",
      " [0.90095042 0.09904958]\n",
      " [0.71077359 0.28922641]\n",
      " [0.92823011 0.07176989]\n",
      " [0.84375689 0.15624311]\n",
      " [0.79544117 0.20455883]\n",
      " [0.86826143 0.13173857]\n",
      " [0.91679447 0.08320553]\n",
      " [0.84763055 0.15236945]\n",
      " [0.89253705 0.10746295]\n",
      " [0.62872187 0.37127813]\n",
      " [0.93875378 0.06124622]\n",
      " [0.72620354 0.27379646]\n",
      " [0.85652972 0.14347028]\n",
      " [0.84226021 0.15773979]\n",
      " [0.77436419 0.22563581]\n",
      " [0.71899563 0.28100437]\n",
      " [0.93587373 0.06412627]\n",
      " [0.95710058 0.04289942]\n",
      " [0.79185868 0.20814132]\n",
      " [0.89370432 0.10629568]\n",
      " [0.91382029 0.08617971]\n",
      " [0.79354593 0.20645407]\n",
      " [0.77934039 0.22065961]\n",
      " [0.7963903  0.2036097 ]\n",
      " [0.83800485 0.16199515]\n",
      " [0.71395698 0.28604302]\n",
      " [0.97772707 0.02227293]\n",
      " [0.9464596  0.0535404 ]\n",
      " [0.88617617 0.11382383]\n",
      " [0.79620158 0.20379842]\n",
      " [0.61863884 0.38136116]\n",
      " [0.81866466 0.18133534]\n",
      " [0.7450416  0.2549584 ]\n",
      " [0.86779493 0.13220507]\n",
      " [0.87071136 0.12928864]\n",
      " [0.81717484 0.18282516]\n",
      " [0.71840761 0.28159239]\n",
      " [0.59825961 0.40174039]\n",
      " [0.83951536 0.16048464]\n",
      " [0.8835132  0.1164868 ]\n",
      " [0.74352618 0.25647382]\n",
      " [0.76631603 0.23368397]\n",
      " [0.9803303  0.0196697 ]\n",
      " [0.91857458 0.08142542]\n",
      " [0.77432843 0.22567157]\n",
      " [0.92514803 0.07485197]\n",
      " [0.88123382 0.11876618]\n",
      " [0.74587215 0.25412785]\n",
      " [0.90478357 0.09521643]\n",
      " [0.78685558 0.21314442]\n",
      " [0.8114777  0.1885223 ]\n",
      " [0.93472168 0.06527832]\n",
      " [0.93836492 0.06163508]\n",
      " [0.79411747 0.20588253]\n",
      " [0.81372909 0.18627091]\n",
      " [0.91610913 0.08389087]\n",
      " [0.90428334 0.09571666]\n",
      " [0.84669432 0.15330568]\n",
      " [0.95384538 0.04615462]\n",
      " [0.91283686 0.08716314]\n",
      " [0.8591959  0.1408041 ]\n",
      " [0.85902507 0.14097493]\n",
      " [0.87519521 0.12480479]\n",
      " [0.76114685 0.23885315]\n",
      " [0.92217677 0.07782323]\n",
      " [0.96859401 0.03140599]\n",
      " [0.94398204 0.05601796]\n",
      " [0.81780303 0.18219697]\n",
      " [0.88058698 0.11941302]\n",
      " [0.77894274 0.22105726]\n",
      " [0.97124456 0.02875544]\n",
      " [0.8880766  0.1119234 ]\n",
      " [0.78715256 0.21284744]\n",
      " [0.82001489 0.17998511]\n",
      " [0.94934531 0.05065469]\n",
      " [0.95888923 0.04111077]\n",
      " [0.73559258 0.26440742]\n",
      " [0.93416981 0.06583019]\n",
      " [0.73750673 0.26249327]\n",
      " [0.82136766 0.17863234]\n",
      " [0.82171198 0.17828802]\n",
      " [0.898967   0.101033  ]\n",
      " [0.78745753 0.21254247]\n",
      " [0.89825339 0.10174661]\n",
      " [0.91433806 0.08566194]\n",
      " [0.92724742 0.07275258]\n",
      " [0.96594957 0.03405043]\n",
      " [0.94417349 0.05582651]\n",
      " [0.93073074 0.06926926]\n",
      " [0.66320624 0.33679376]\n",
      " [0.8416866  0.1583134 ]\n",
      " [0.82636824 0.17363176]\n",
      " [0.80616646 0.19383354]\n",
      " [0.96157625 0.03842375]\n",
      " [0.93515156 0.06484844]\n",
      " [0.9477861  0.0522139 ]\n",
      " [0.97337817 0.02662183]\n",
      " [0.79297082 0.20702918]\n",
      " [0.87770187 0.12229813]\n",
      " [0.86103662 0.13896338]\n",
      " [0.95185472 0.04814528]\n",
      " [0.93131494 0.06868506]\n",
      " [0.75685376 0.24314624]\n",
      " [0.74997823 0.25002177]\n",
      " [0.95527856 0.04472144]\n",
      " [0.8695071  0.1304929 ]\n",
      " [0.81376777 0.18623223]\n",
      " [0.7699062  0.2300938 ]\n",
      " [0.80077925 0.19922075]\n",
      " [0.92801112 0.07198888]\n",
      " [0.90949236 0.09050764]\n",
      " [0.94557614 0.05442386]\n",
      " [0.93330454 0.06669546]\n",
      " [0.69145953 0.30854047]\n",
      " [0.93056867 0.06943133]\n",
      " [0.74525457 0.25474543]\n",
      " [0.78594358 0.21405642]\n",
      " [0.93308591 0.06691409]\n",
      " [0.80878285 0.19121715]\n",
      " [0.85096455 0.14903545]\n",
      " [0.66956312 0.33043688]\n",
      " [0.90338376 0.09661624]\n",
      " [0.9115892  0.0884108 ]\n",
      " [0.87300498 0.12699502]\n",
      " [0.92939046 0.07060954]\n",
      " [0.66661773 0.33338227]\n",
      " [0.89098506 0.10901494]\n",
      " [0.86216715 0.13783285]\n",
      " [0.78838554 0.21161446]\n",
      " [0.53099695 0.46900305]\n",
      " [0.73344349 0.26655651]\n",
      " [0.71053997 0.28946003]\n",
      " [0.85530484 0.14469516]\n",
      " [0.869606   0.130394  ]\n",
      " [0.75470011 0.24529989]\n",
      " [0.89823504 0.10176496]\n",
      " [0.79247856 0.20752144]\n",
      " [0.9064312  0.0935688 ]\n",
      " [0.7765078  0.2234922 ]\n",
      " [0.88387785 0.11612215]\n",
      " [0.85404312 0.14595688]\n",
      " [0.81899384 0.18100616]\n",
      " [0.7444855  0.2555145 ]\n",
      " [0.86259438 0.13740562]\n",
      " [0.77822631 0.22177369]\n",
      " [0.76928336 0.23071664]\n",
      " [0.79679238 0.20320762]\n",
      " [0.92096588 0.07903412]\n",
      " [0.7457379  0.2542621 ]\n",
      " [0.87499218 0.12500782]\n",
      " [0.85503285 0.14496715]\n",
      " [0.77292182 0.22707818]\n",
      " [0.87227276 0.12772724]\n",
      " [0.67395395 0.32604605]\n",
      " [0.93621653 0.06378347]\n",
      " [0.82479478 0.17520522]\n",
      " [0.95146038 0.04853962]\n",
      " [0.83462456 0.16537544]\n",
      " [0.81106465 0.18893535]\n",
      " [0.80828271 0.19171729]\n",
      " [0.87664144 0.12335856]\n",
      " [0.66787016 0.33212984]\n",
      " [0.59616877 0.40383123]\n",
      " [0.98979359 0.01020641]\n",
      " [0.70634421 0.29365579]\n",
      " [0.91633073 0.08366927]\n",
      " [0.92133465 0.07866535]\n",
      " [0.71383915 0.28616085]\n",
      " [0.62454007 0.37545993]\n",
      " [0.76440589 0.23559411]\n",
      " [0.95401641 0.04598359]\n",
      " [0.8818672  0.1181328 ]\n",
      " [0.86019893 0.13980107]\n",
      " [0.92117373 0.07882627]\n",
      " [0.88019161 0.11980839]\n",
      " [0.80451452 0.19548548]\n",
      " [0.80585191 0.19414809]\n",
      " [0.91345479 0.08654521]\n",
      " [0.72101823 0.27898177]\n",
      " [0.94507992 0.05492008]\n",
      " [0.90906894 0.09093106]\n",
      " [0.73381771 0.26618229]\n",
      " [0.9810918  0.0189082 ]\n",
      " [0.85490455 0.14509545]\n",
      " [0.89817058 0.10182942]\n",
      " [0.82436996 0.17563004]\n",
      " [0.83387091 0.16612909]\n",
      " [0.8813663  0.1186337 ]\n",
      " [0.8803131  0.1196869 ]\n",
      " [0.87560623 0.12439377]\n",
      " [0.81617196 0.18382804]\n",
      " [0.8802884  0.1197116 ]\n",
      " [0.61530883 0.38469117]\n",
      " [0.88826145 0.11173855]\n",
      " [0.896928   0.103072  ]\n",
      " [0.85328926 0.14671074]\n",
      " [0.98297035 0.01702965]\n",
      " [0.77341257 0.22658743]\n",
      " [0.62184918 0.37815082]\n",
      " [0.82739138 0.17260862]\n",
      " [0.84083343 0.15916657]\n",
      " [0.84808621 0.15191379]\n",
      " [0.84937023 0.15062977]\n",
      " [0.7554103  0.2445897 ]\n",
      " [0.86188862 0.13811138]\n",
      " [0.90684678 0.09315322]\n",
      " [0.84663283 0.15336717]\n",
      " [0.81290918 0.18709082]\n",
      " [0.74053618 0.25946382]\n",
      " [0.87035273 0.12964727]\n",
      " [0.83938104 0.16061896]\n",
      " [0.86267955 0.13732045]\n",
      " [0.66362945 0.33637055]\n",
      " [0.90671714 0.09328286]\n",
      " [0.87056279 0.12943721]\n",
      " [0.9258078  0.0741922 ]\n",
      " [0.84386873 0.15613127]\n",
      " [0.89878143 0.10121857]\n",
      " [0.91239483 0.08760517]\n",
      " [0.79867649 0.20132351]\n",
      " [0.64052613 0.35947387]\n",
      " [0.8468395  0.1531605 ]\n",
      " [0.75503219 0.24496781]\n",
      " [0.8526455  0.1473545 ]\n",
      " [0.99251429 0.00748571]\n",
      " [0.86138206 0.13861794]\n",
      " [0.88140132 0.11859868]\n",
      " [0.82757091 0.17242909]\n",
      " [0.93027064 0.06972936]\n",
      " [0.87307447 0.12692553]\n",
      " [0.88802391 0.11197609]\n",
      " [0.8375334  0.1624666 ]\n",
      " [0.86481034 0.13518966]\n",
      " [0.86515541 0.13484459]\n",
      " [0.89754783 0.10245217]\n",
      " [0.78409067 0.21590933]\n",
      " [0.7916512  0.2083488 ]\n",
      " [0.88388131 0.11611869]\n",
      " [0.65418992 0.34581008]\n",
      " [0.94059366 0.05940634]\n",
      " [0.8991343  0.1008657 ]\n",
      " [0.72525645 0.27474355]\n",
      " [0.6908556  0.3091444 ]\n",
      " [0.87591628 0.12408372]\n",
      " [0.86562236 0.13437764]\n",
      " [0.97508869 0.02491131]\n",
      " [0.8626512  0.1373488 ]\n",
      " [0.54036134 0.45963866]\n",
      " [0.91302259 0.08697741]\n",
      " [0.74609616 0.25390384]\n",
      " [0.86758148 0.13241852]\n",
      " [0.8885276  0.1114724 ]\n",
      " [0.87911717 0.12088283]\n",
      " [0.85664969 0.14335031]\n",
      " [0.77281976 0.22718024]\n",
      " [0.80713967 0.19286033]\n",
      " [0.8528551  0.1471449 ]\n",
      " [0.77595541 0.22404459]\n",
      " [0.70409828 0.29590172]\n",
      " [0.88971657 0.11028343]\n",
      " [0.48963178 0.51036822]\n",
      " [0.92370637 0.07629363]\n",
      " [0.75572325 0.24427675]\n",
      " [0.67788919 0.32211081]\n",
      " [0.91301002 0.08698998]\n",
      " [0.94029208 0.05970792]\n",
      " [0.88009776 0.11990224]\n",
      " [0.88591153 0.11408847]\n",
      " [0.95656814 0.04343186]\n",
      " [0.89909415 0.10090585]\n",
      " [0.94784639 0.05215361]\n",
      " [0.83255787 0.16744213]\n",
      " [0.87822132 0.12177868]\n",
      " [0.81945813 0.18054187]\n",
      " [0.81668796 0.18331204]\n",
      " [0.95036157 0.04963843]\n",
      " [0.86940137 0.13059863]\n",
      " [0.90541586 0.09458414]\n",
      " [0.83661182 0.16338818]\n",
      " [0.84583662 0.15416338]\n",
      " [0.79307985 0.20692015]\n",
      " [0.81808129 0.18191871]\n",
      " [0.81598425 0.18401575]\n",
      " [0.83677571 0.16322429]\n",
      " [0.91443026 0.08556974]\n",
      " [0.91533086 0.08466914]\n",
      " [0.68503471 0.31496529]\n",
      " [0.99073754 0.00926246]\n",
      " [0.76795029 0.23204971]\n",
      " [0.79871945 0.20128055]\n",
      " [0.73176836 0.26823164]\n",
      " [0.67465239 0.32534761]\n",
      " [0.7971248  0.2028752 ]\n",
      " [0.84935623 0.15064377]\n",
      " [0.86467087 0.13532913]\n",
      " [0.85844146 0.14155854]\n",
      " [0.84533257 0.15466743]\n",
      " [0.83038794 0.16961206]\n",
      " [0.92192741 0.07807259]\n",
      " [0.83189723 0.16810277]\n",
      " [0.97707544 0.02292456]\n",
      " [0.90418216 0.09581784]\n",
      " [0.92691192 0.07308808]\n",
      " [0.84797365 0.15202635]\n",
      " [0.76712584 0.23287416]\n",
      " [0.94895147 0.05104853]\n",
      " [0.94782078 0.05217922]\n",
      " [0.75181534 0.24818466]\n",
      " [0.87880471 0.12119529]\n",
      " [0.80770781 0.19229219]\n",
      " [0.93864293 0.06135707]\n",
      " [0.86008497 0.13991503]\n",
      " [0.76056744 0.23943256]\n",
      " [0.90892463 0.09107537]\n",
      " [0.75402142 0.24597858]\n",
      " [0.94271835 0.05728165]\n",
      " [0.91827316 0.08172684]\n",
      " [0.90545126 0.09454874]\n",
      " [0.76879477 0.23120523]\n",
      " [0.92358127 0.07641873]\n",
      " [0.80705894 0.19294106]\n",
      " [0.90079523 0.09920477]\n",
      " [0.87933315 0.12066685]\n",
      " [0.80585718 0.19414282]\n",
      " [0.83150077 0.16849923]\n",
      " [0.53816827 0.46183173]\n",
      " [0.95031817 0.04968183]\n",
      " [0.73291937 0.26708063]\n",
      " [0.89182876 0.10817124]\n",
      " [0.80079863 0.19920137]\n",
      " [0.87739799 0.12260201]\n",
      " [0.96805225 0.03194775]\n",
      " [0.81741595 0.18258405]\n",
      " [0.8615008  0.1384992 ]\n",
      " [0.59407598 0.40592402]\n",
      " [0.82625726 0.17374274]\n",
      " [0.92534963 0.07465037]\n",
      " [0.81692208 0.18307792]\n",
      " [0.92586777 0.07413223]\n",
      " [0.8909458  0.1090542 ]\n",
      " [0.70071797 0.29928203]\n",
      " [0.82181894 0.17818106]\n",
      " [0.9658993  0.0341007 ]\n",
      " [0.8699699  0.1300301 ]\n",
      " [0.89918541 0.10081459]\n",
      " [0.88983812 0.11016188]\n",
      " [0.81432471 0.18567529]\n",
      " [0.85830027 0.14169973]\n",
      " [0.83878646 0.16121354]\n",
      " [0.84056579 0.15943421]\n",
      " [0.82661161 0.17338839]\n",
      " [0.94075155 0.05924845]\n",
      " [0.83183532 0.16816468]\n",
      " [0.77561364 0.22438636]\n",
      " [0.69399568 0.30600432]\n",
      " [0.85962131 0.14037869]\n",
      " [0.82513939 0.17486061]\n",
      " [0.84107719 0.15892281]\n",
      " [0.87191012 0.12808988]\n",
      " [0.89447646 0.10552354]\n",
      " [0.82945362 0.17054638]\n",
      " [0.72856837 0.27143163]\n",
      " [0.94692817 0.05307183]\n",
      " [0.96074295 0.03925705]\n",
      " [0.905002   0.094998  ]\n",
      " [0.88599982 0.11400018]\n",
      " [0.8486564  0.1513436 ]\n",
      " [0.79086992 0.20913008]\n",
      " [0.67303003 0.32696997]\n",
      " [0.93390201 0.06609799]\n",
      " [0.6564491  0.3435509 ]\n",
      " [0.74382865 0.25617135]\n",
      " [0.942484   0.057516  ]\n",
      " [0.78365661 0.21634339]\n",
      " [0.90655642 0.09344358]\n",
      " [0.81578724 0.18421276]\n",
      " [0.89149733 0.10850267]\n",
      " [0.85791872 0.14208128]\n",
      " [0.67453879 0.32546121]\n",
      " [0.93130383 0.06869617]\n",
      " [0.89999978 0.10000022]]\n"
     ]
    }
   ],
   "source": [
    "probs = model2.predict_proba(X_test)\n",
    "print (probs)"
   ]
  },
  {
   "cell_type": "code",
   "execution_count": 117,
   "metadata": {},
   "outputs": [
    {
     "name": "stdout",
     "output_type": "stream",
     "text": [
      "0.8435374149659864\n",
      "0.6502502887947632\n"
     ]
    }
   ],
   "source": [
    "from sklearn import metrics\n",
    "\n",
    "print (metrics.accuracy_score(y_test, predicted))\n",
    "print (metrics.roc_auc_score(y_test, probs[:, 1]))"
   ]
  },
  {
   "cell_type": "code",
   "execution_count": 118,
   "metadata": {},
   "outputs": [
    {
     "name": "stdout",
     "output_type": "stream",
     "text": [
      "[[371   0]\n",
      " [ 69   1]]\n",
      "              precision    recall  f1-score   support\n",
      "\n",
      "         0.0       0.84      1.00      0.91       371\n",
      "         1.0       1.00      0.01      0.03        70\n",
      "\n",
      "    accuracy                           0.84       441\n",
      "   macro avg       0.92      0.51      0.47       441\n",
      "weighted avg       0.87      0.84      0.77       441\n",
      "\n"
     ]
    }
   ],
   "source": [
    "print (metrics.confusion_matrix(y_test, predicted))\n",
    "print (metrics.classification_report(y_test, predicted))"
   ]
  },
  {
   "cell_type": "code",
   "execution_count": 119,
   "metadata": {},
   "outputs": [
    {
     "name": "stdout",
     "output_type": "stream",
     "text": [
      "      Intercept   Age  Department  DistanceFromHome  Education  \\\n",
      "338         1.0  30.0         2.0               5.0        3.0   \n",
      "363         1.0  33.0         2.0               5.0        3.0   \n",
      "759         1.0  45.0         3.0              24.0        4.0   \n",
      "793         1.0  28.0         1.0              15.0        2.0   \n",
      "581         1.0  30.0         1.0               1.0        3.0   \n",
      "...         ...   ...         ...               ...        ...   \n",
      "763         1.0  34.0         2.0              10.0        4.0   \n",
      "835         1.0  35.0         3.0               8.0        4.0   \n",
      "1216        1.0  43.0         2.0               2.0        3.0   \n",
      "559         1.0  38.0         1.0               2.0        5.0   \n",
      "684         1.0  40.0         2.0              10.0        4.0   \n",
      "\n",
      "      EducationField  YearsAtCompany  \n",
      "338              3.0            10.0  \n",
      "363              3.0             1.0  \n",
      "759              2.0             6.0  \n",
      "793              1.0             4.0  \n",
      "581              1.0             2.0  \n",
      "...              ...             ...  \n",
      "763              1.0             1.0  \n",
      "835              5.0             5.0  \n",
      "1216             2.0            10.0  \n",
      "559              2.0             1.0  \n",
      "684              3.0             1.0  \n",
      "\n",
      "[1029 rows x 7 columns]\n"
     ]
    }
   ],
   "source": [
    "print (X_train)"
   ]
  },
  {
   "cell_type": "code",
   "execution_count": 120,
   "metadata": {},
   "outputs": [
    {
     "name": "stdout",
     "output_type": "stream",
     "text": [
      "[[6.25571930e-07 9.99999374e-01]]\n"
     ]
    }
   ],
   "source": [
    "#add random values to KK according to the parameters mentioned above to check the proabily of attrition of the employee\n",
    "kk = [[1.0, 23.0, 1.0, 500.0, 3.0, 24.0, 1.0]]\n",
    "print (model.predict_proba(kk))"
   ]
  }
 ],
 "metadata": {
  "kernelspec": {
   "display_name": "Python 3 (ipykernel)",
   "language": "python",
   "name": "python3"
  },
  "language_info": {
   "codemirror_mode": {
    "name": "ipython",
    "version": 3
   },
   "file_extension": ".py",
   "mimetype": "text/x-python",
   "name": "python",
   "nbconvert_exporter": "python",
   "pygments_lexer": "ipython3",
   "version": "3.9.12"
  }
 },
 "nbformat": 4,
 "nbformat_minor": 2
}
